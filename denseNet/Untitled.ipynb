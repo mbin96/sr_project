{
 "cells": [
  {
   "cell_type": "code",
   "execution_count": 1,
   "metadata": {},
   "outputs": [],
   "source": [
    "import torch\n",
    "import torchvision\n",
    "import torchvision.transforms as transforms\n",
    "import torch.nn as nn\n",
    "import torch.nn.functional as F\n",
    "import torch.optim as optim\n",
    "from torchsummary import summary\n",
    "import torch.nn.init as init\n"
   ]
  },
  {
   "cell_type": "code",
   "execution_count": 2,
   "metadata": {},
   "outputs": [
    {
     "name": "stdout",
     "output_type": "stream",
     "text": [
      "tensor([[[0.9246, 0.9289],\n",
      "         [0.1810, 0.7912]],\n",
      "\n",
      "        [[0.4029, 0.2421],\n",
      "         [0.6667, 0.1659]]])\n"
     ]
    }
   ],
   "source": [
    "x = torch.rand(2,2,2)\n",
    "print(x)"
   ]
  },
  {
   "cell_type": "code",
   "execution_count": 3,
   "metadata": {},
   "outputs": [
    {
     "name": "stdout",
     "output_type": "stream",
     "text": [
      "tensor([[[0.5116, 0.7084],\n",
      "         [0.2928, 0.9248]],\n",
      "\n",
      "        [[0.2049, 0.3851],\n",
      "         [0.9366, 0.3499]],\n",
      "\n",
      "        [[0.5116, 0.7084],\n",
      "         [0.2928, 0.9248]],\n",
      "\n",
      "        [[0.2049, 0.3851],\n",
      "         [0.9366, 0.3499]]])\n"
     ]
    }
   ],
   "source": [
    "x = torch.rand(2,2,2)\n",
    "catted = torch.cat((x,x))\n",
    "print(catted)\n"
   ]
  },
  {
   "cell_type": "code",
   "execution_count": 5,
   "metadata": {},
   "outputs": [
    {
     "name": "stdout",
     "output_type": "stream",
     "text": [
      "tensor([[[0.5116, 0.7084],\n",
      "         [0.2928, 0.9248]],\n",
      "\n",
      "        [[0.2049, 0.3851],\n",
      "         [0.9366, 0.3499]],\n",
      "\n",
      "        [[0.5116, 0.7084],\n",
      "         [0.2928, 0.9248]],\n",
      "\n",
      "        [[0.2049, 0.3851],\n",
      "         [0.9366, 0.3499]],\n",
      "\n",
      "        [[0.7199, 0.9094],\n",
      "         [0.9757, 0.6307]],\n",
      "\n",
      "        [[0.9154, 0.0146],\n",
      "         [0.6612, 0.8982]],\n",
      "\n",
      "        [[0.1282, 0.8788],\n",
      "         [0.0161, 0.5890]],\n",
      "\n",
      "        [[0.2610, 0.2885],\n",
      "         [0.5123, 0.0279]],\n",
      "\n",
      "        [[0.5116, 0.7084],\n",
      "         [0.2928, 0.9248]],\n",
      "\n",
      "        [[0.2049, 0.3851],\n",
      "         [0.9366, 0.3499]],\n",
      "\n",
      "        [[0.5116, 0.7084],\n",
      "         [0.2928, 0.9248]],\n",
      "\n",
      "        [[0.2049, 0.3851],\n",
      "         [0.9366, 0.3499]],\n",
      "\n",
      "        [[0.7199, 0.9094],\n",
      "         [0.9757, 0.6307]],\n",
      "\n",
      "        [[0.9154, 0.0146],\n",
      "         [0.6612, 0.8982]]])\n"
     ]
    }
   ],
   "source": [
    "x = torch.rand(2,2,2)\n",
    "catted = torch.cat((catted,x,catted))\n",
    "print(catted)\n",
    "\n"
   ]
  },
  {
   "cell_type": "code",
   "execution_count": null,
   "metadata": {},
   "outputs": [],
   "source": []
  }
 ],
 "metadata": {
  "kernelspec": {
   "display_name": "Python 3",
   "language": "python",
   "name": "python3"
  },
  "language_info": {
   "codemirror_mode": {
    "name": "ipython",
    "version": 3
   },
   "file_extension": ".py",
   "mimetype": "text/x-python",
   "name": "python",
   "nbconvert_exporter": "python",
   "pygments_lexer": "ipython3",
   "version": "3.7.4"
  }
 },
 "nbformat": 4,
 "nbformat_minor": 2
}
